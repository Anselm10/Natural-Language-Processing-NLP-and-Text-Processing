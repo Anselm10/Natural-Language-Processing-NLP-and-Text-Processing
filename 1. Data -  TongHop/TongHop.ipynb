{
 "cells": [
  {
   "cell_type": "markdown",
   "metadata": {},
   "source": [
    "# Tổng hợp dữ liệu"
   ]
  },
  {
   "cell_type": "markdown",
   "metadata": {},
   "source": [
    "## Mục Tiêu: \n",
    "### Tiến hành tổng hợp dữ liệu đầu vào từ các nguồn Web, Book, Kaggle, Git và tổng hợp, xử lý tam thời tạo ra 3 file dữ liệu dưới dạng csv, dành cho ba mục tiêu bao gồm : \n",
    "### - Cho sinh ngôn ngữ\n",
    "### - Cho trả lời câu hỏi\n",
    "### - Cho phân cụm.\n",
    " "
   ]
  },
  {
   "cell_type": "markdown",
   "metadata": {},
   "source": [
    "# Library"
   ]
  },
  {
   "cell_type": "code",
   "execution_count": 1,
   "metadata": {},
   "outputs": [],
   "source": [
    "import sys\n",
    "sys.path.append('../1. Take Data')"
   ]
  },
  {
   "cell_type": "code",
   "execution_count": 2,
   "metadata": {},
   "outputs": [
    {
     "name": "stderr",
     "output_type": "stream",
     "text": [
      "[nltk_data] Downloading package words to\n",
      "[nltk_data]     C:\\Users\\PC\\AppData\\Roaming\\nltk_data...\n",
      "[nltk_data]   Package words is already up-to-date!\n"
     ]
    }
   ],
   "source": [
    "import os\n",
    "import string\n",
    "import re\n",
    "import matplotlib.pyplot as plt\n",
    "import numpy as np\n",
    "import pandas as pd\n",
    "import nltk\n",
    "from nltk.corpus import words\n",
    "\n",
    "nltk.download('words')\n",
    "word_list = set(words.words())"
   ]
  },
  {
   "cell_type": "markdown",
   "metadata": {},
   "source": [
    "# Dữ liệu cho bài toán sinh ngôn ngữ ?"
   ]
  },
  {
   "cell_type": "code",
   "execution_count": 3,
   "metadata": {},
   "outputs": [
    {
     "name": "stdout",
     "output_type": "stream",
     "text": [
      "Data_Book\n",
      "Data_Kaggle\n",
      "Data_Web\n",
      "Question_Answer.csv\n",
      "Sequence_Text.csv\n",
      "Sequence_Text_temp.csv\n",
      "Take_Data_From_Book.py\n",
      "Take_Data_Web.py\n",
      "TongHop.ipynb\n",
      "frequency_dictionary_en_82_765.txt\n"
     ]
    }
   ],
   "source": [
    "!ls"
   ]
  },
  {
   "cell_type": "markdown",
   "metadata": {},
   "source": [
    "## 1.1 Load Data"
   ]
  },
  {
   "cell_type": "markdown",
   "metadata": {},
   "source": [
    "## Data Web"
   ]
  },
  {
   "cell_type": "code",
   "execution_count": 4,
   "metadata": {},
   "outputs": [],
   "source": [
    "web_files = os.listdir('Data_Web')"
   ]
  },
  {
   "cell_type": "code",
   "execution_count": 5,
   "metadata": {},
   "outputs": [],
   "source": [
    "context_web = \"\"\n",
    "for i in web_files:\n",
    "    with open('Data_Web/'+i,'r', encoding='latin-1') as f:\n",
    "        context_web+=f.read()"
   ]
  },
  {
   "cell_type": "code",
   "execution_count": 6,
   "metadata": {},
   "outputs": [
    {
     "data": {
      "text/plain": [
       "83533"
      ]
     },
     "execution_count": 6,
     "metadata": {},
     "output_type": "execute_result"
    }
   ],
   "source": [
    "len(context_web)"
   ]
  },
  {
   "cell_type": "markdown",
   "metadata": {},
   "source": [
    "## Data Book"
   ]
  },
  {
   "cell_type": "code",
   "execution_count": 7,
   "metadata": {},
   "outputs": [],
   "source": [
    "book_files = os.listdir('Data_Book')"
   ]
  },
  {
   "cell_type": "code",
   "execution_count": 8,
   "metadata": {},
   "outputs": [],
   "source": [
    "context_book = \"\"\n",
    "for i in book_files:\n",
    "    if '.txt' in i:\n",
    "        with open('Data_Book/'+i,'r', encoding='latin-1') as f:\n",
    "            context_book+=f.read()"
   ]
  },
  {
   "cell_type": "code",
   "execution_count": 9,
   "metadata": {},
   "outputs": [
    {
     "data": {
      "text/plain": [
       "2560895"
      ]
     },
     "execution_count": 9,
     "metadata": {},
     "output_type": "execute_result"
    }
   ],
   "source": [
    "len(context_book)"
   ]
  },
  {
   "cell_type": "markdown",
   "metadata": {},
   "source": [
    "## 2. Pre-Processing"
   ]
  },
  {
   "cell_type": "code",
   "execution_count": 10,
   "metadata": {},
   "outputs": [],
   "source": [
    "content = context_web + '.' + context_book"
   ]
  },
  {
   "cell_type": "code",
   "execution_count": 11,
   "metadata": {},
   "outputs": [
    {
     "data": {
      "text/plain": [
       "2644429"
      ]
     },
     "execution_count": 11,
     "metadata": {},
     "output_type": "execute_result"
    }
   ],
   "source": [
    "len(content)"
   ]
  },
  {
   "cell_type": "code",
   "execution_count": 12,
   "metadata": {},
   "outputs": [],
   "source": [
    "def preprocess_text(text):\n",
    "    # Substitute matched punctuation with an empty string\n",
    "    cleaned_text = text.replace(',','')\n",
    "    cleaned_text = cleaned_text.replace(\"”\",\"\").replace(\"“\",\"\").replace(\"’\",\"\").replace(\"\\x92\",\"\")\n",
    "    # Loại bỏ các @mentions\n",
    "    cleaned_text = re.sub(r'@\\w+', '', cleaned_text)\n",
    "    # Loại bỏ các ký hiệu không phải chữ cái, số hoặc khoảng trắng\n",
    "    cleaned_text = re.sub(r'[^A-Za-z\\.\\s]', '', cleaned_text)\n",
    "    # Loại bỏ các liên kết hyper-link\n",
    "    cleaned_text = re.sub(r'http\\S+|www\\S+|https\\S+', '', cleaned_text)\n",
    "    # Loại bỏ dấu hai chấm theo sau bởi một hoặc nhiều khoảng trắng\n",
    "    cleaned_text = re.sub(r':[\\s]+', ' ', cleaned_text)\n",
    "    #\n",
    "    cleaned_text = cleaned_text.replace('\\n',' ')\n",
    "    #\n",
    "    cleaned_text = cleaned_text.replace('\\t',' ')\n",
    "    # Loại bỏ khoảng trắng thừa\n",
    "    cleaned_text = cleaned_text.strip()\n",
    "    return cleaned_text"
   ]
  },
  {
   "cell_type": "code",
   "execution_count": 13,
   "metadata": {},
   "outputs": [],
   "source": [
    "content = preprocess_text(content)"
   ]
  },
  {
   "cell_type": "code",
   "execution_count": 14,
   "metadata": {},
   "outputs": [
    {
     "data": {
      "text/plain": [
       "28078"
      ]
     },
     "execution_count": 14,
     "metadata": {},
     "output_type": "execute_result"
    }
   ],
   "source": [
    "len(content.split('.'))"
   ]
  },
  {
   "cell_type": "code",
   "execution_count": 15,
   "metadata": {},
   "outputs": [],
   "source": [
    "# Tao ra danh sach cac cau:\n",
    "seqs = content.split('.')"
   ]
  },
  {
   "cell_type": "code",
   "execution_count": 16,
   "metadata": {},
   "outputs": [
    {
     "data": {
      "text/plain": [
       "28078"
      ]
     },
     "execution_count": 16,
     "metadata": {},
     "output_type": "execute_result"
    }
   ],
   "source": [
    "len(seqs)"
   ]
  },
  {
   "cell_type": "code",
   "execution_count": 17,
   "metadata": {},
   "outputs": [
    {
     "data": {
      "text/plain": [
       "['MIN READ NASAs TESS Finds Intriguing World Sized Between Earth Venus Using observations by NASAs TESS Transiting Exoplanet Survey Satellite and many other facilities two international teams of astronomers have discovered a planet between the sizes of Earth and Venus only  lightyears away',\n",
       " ' Multiple factors make it a candidate wellsuited for further study using NASAs James Webb Space Telescope',\n",
       " ' Gliese  b which orbits a cool red dwarf star located just  lightyears away promises to tell astronomers more about how planets close to their stars retain or lose their atmospheres',\n",
       " ' In this artists concept Gliese  b is shown retaining a thin atmosphere',\n",
       " ' NASAJPLCaltechR',\n",
       " ' Hurt CaltechIPAC TESS stares at a large swath of the sky for about a month at a time tracking the brightness changes of tens of thousands of stars at intervals ranging from  seconds to  minutes',\n",
       " ' Capturing transits  brief regular dimmings of stars caused by the passage of orbiting worlds  is one of the missions primary goals',\n",
       " ' Weve found the nearest transiting temperate Earthsize world located to date said Masayuki Kuzuhara a project assistant professor at the Astrobiology Center in Tokyo who coled one research team with Akihiko Fukui a project assistant professor at the University of Tokyo',\n",
       " ' Although we dont yet know whether it possesses an atmosphere weve been thinking of it as an exoVenus with similar size and energy received from its star as our planetary neighbor in the solar system',\n",
       " ' The host star called Gliese  is a cool red dwarf located almost  lightyears away in the constellation Pisces']"
      ]
     },
     "execution_count": 17,
     "metadata": {},
     "output_type": "execute_result"
    }
   ],
   "source": [
    "seqs[:10]"
   ]
  },
  {
   "cell_type": "markdown",
   "metadata": {},
   "source": [
    "### Xử lý các câu có thông tin số lượng từ nhỏ hơn 10"
   ]
  },
  {
   "cell_type": "code",
   "execution_count": 18,
   "metadata": {},
   "outputs": [
    {
     "data": {
      "text/plain": [
       "16852"
      ]
     },
     "execution_count": 18,
     "metadata": {},
     "output_type": "execute_result"
    }
   ],
   "source": [
    "pre_seq = []\n",
    "for i in seqs:\n",
    "    i=i.strip()\n",
    "    if(len(i.split())>=10):\n",
    "        pre_seq.append(i)\n",
    "len(pre_seq)"
   ]
  },
  {
   "cell_type": "markdown",
   "metadata": {},
   "source": [
    "### Đếm số lượng câu là câu hỏi và trực quan về tỉ trọng"
   ]
  },
  {
   "cell_type": "code",
   "execution_count": 19,
   "metadata": {},
   "outputs": [],
   "source": [
    "def count_wh_questions(sentences):\n",
    "    # Define a set of WH-words\n",
    "    wh_words = {'who', 'what', 'where', 'when', 'why', 'how', 'which'}\n",
    "    # Count the sentences that start with a WH-word\n",
    "    wh_question_count = sum(1 for sentence in sentences if sentence and sentence.split()[0].rstrip('?:!.,').lower() in wh_words)\n",
    "    return wh_question_count"
   ]
  },
  {
   "cell_type": "code",
   "execution_count": 20,
   "metadata": {},
   "outputs": [],
   "source": [
    "count_whquestion = count_wh_questions(pre_seq)"
   ]
  },
  {
   "cell_type": "code",
   "execution_count": 21,
   "metadata": {},
   "outputs": [
    {
     "data": {
      "image/png": "[encoded data removed]",
      "text/plain": [
       "<Figure size 640x480 with 1 Axes>"
      ]
     },
     "metadata": {},
     "output_type": "display_data"
    }
   ],
   "source": [
    "# Data to plot\n",
    "labels = ['Wh-Question', 'No Wh-Question']\n",
    "sizes = [count_whquestion, len(pre_seq)-count_whquestion]\n",
    "colors = ['gold', 'yellowgreen']\n",
    "explode = (0.1, 0)  # explode 1st slice\n",
    "\n",
    "# Plotting the pie chart\n",
    "plt.pie(sizes, explode=explode, labels=labels, colors=colors,\n",
    "        autopct='%1.1f%%', shadow=True, startangle=140)\n",
    "\n",
    "plt.axis('equal')  # Equal aspect ratio ensures that pie is drawn as a circle.\n",
    "\n",
    "plt.title('Pie Chart Example')\n",
    "plt.show()"
   ]
  },
  {
   "cell_type": "code",
   "execution_count": 22,
   "metadata": {},
   "outputs": [
    {
     "data": {
      "text/plain": [
       "11226"
      ]
     },
     "execution_count": 22,
     "metadata": {},
     "output_type": "execute_result"
    }
   ],
   "source": [
    "# Vì vậy mình tiến hành loại bỏ các câu này, thì sẽ không gây ảnh hưởng gì trong việc xin ra nội dung câu.\n",
    "wh_words = ['who', 'what', 'where', 'when', 'why', 'how', 'which']\n",
    "pre_seq_no_w = []\n",
    "for i in pre_seq:\n",
    "    dem = 0\n",
    "    for j in wh_words:\n",
    "        if (j in i.lower()):\n",
    "            dem = 1\n",
    "            break\n",
    "    if(dem==0):\n",
    "        pre_seq_no_w.append(i)\n",
    "len(pre_seq_no_w)"
   ]
  },
  {
   "cell_type": "code",
   "execution_count": 23,
   "metadata": {},
   "outputs": [],
   "source": [
    "# Check the number\n",
    "def count_number_sequences(sequences):\n",
    "    count = 0\n",
    "    for text in sequences:\n",
    "        # Use regular expressions to find all sequences of digits in the text\n",
    "        numbers = re.findall(r'\\d+', text)\n",
    "        if(len(numbers)!=0):\n",
    "            count+=1\n",
    "    return count"
   ]
  },
  {
   "cell_type": "code",
   "execution_count": 24,
   "metadata": {},
   "outputs": [],
   "source": [
    "count_number = count_number_sequences(pre_seq_no_w)"
   ]
  },
  {
   "cell_type": "code",
   "execution_count": 25,
   "metadata": {},
   "outputs": [
    {
     "data": {
      "image/png": "[encoded data removed]",
      "text/plain": [
       "<Figure size 640x480 with 1 Axes>"
      ]
     },
     "metadata": {},
     "output_type": "display_data"
    }
   ],
   "source": [
    "# Data to plot\n",
    "labels = ['Having Number', 'Only Text']\n",
    "sizes = [count_number, len(pre_seq_no_w)-count_number]\n",
    "colors = ['gold', 'yellowgreen']\n",
    "explode = (0.1, 0)  # explode 1st slice\n",
    "\n",
    "# Plotting the pie chart\n",
    "plt.pie(sizes, explode=explode, labels=labels, colors=colors,\n",
    "        autopct='%1.1f%%', shadow=True, startangle=140)\n",
    "\n",
    "plt.axis('equal')  # Equal aspect ratio ensures that pie is drawn as a circle.\n",
    "\n",
    "plt.title('Pie Chart Example')\n",
    "plt.show()"
   ]
  },
  {
   "cell_type": "markdown",
   "metadata": {},
   "source": [
    "# Checking Word"
   ]
  },
  {
   "cell_type": "code",
   "execution_count": 26,
   "metadata": {},
   "outputs": [
    {
     "name": "stderr",
     "output_type": "stream",
     "text": [
      "[nltk_data] Downloading package punkt to\n",
      "[nltk_data]     C:\\Users\\PC\\AppData\\Roaming\\nltk_data...\n",
      "[nltk_data]   Package punkt is already up-to-date!\n"
     ]
    }
   ],
   "source": [
    "nltk.download('punkt')\n",
    "from nltk.tokenize import word_tokenize\n",
    "def is_valid_sequence(text):\n",
    "    # Tokenize the text into words\n",
    "    tokens = word_tokenize(text)\n",
    "    \n",
    "    # Check if each token is a valid English word\n",
    "    for token in tokens:\n",
    "        if token.lower() not in word_list:\n",
    "            return False\n",
    "    return True"
   ]
  },
  {
   "cell_type": "code",
   "execution_count": 27,
   "metadata": {},
   "outputs": [
    {
     "name": "stdout",
     "output_type": "stream",
     "text": [
      "10613\n"
     ]
    }
   ],
   "source": [
    "dem = 0\n",
    "for i in pre_seq_no_w:\n",
    "    if not (is_valid_sequence(i)):\n",
    "        dem+=1\n",
    "print(dem)"
   ]
  },
  {
   "cell_type": "code",
   "execution_count": 28,
   "metadata": {},
   "outputs": [],
   "source": [
    "True_Sequence = []\n",
    "for i in pre_seq_no_w:\n",
    "    if (is_valid_sequence(i)):\n",
    "        True_Sequence.append(i)"
   ]
  },
  {
   "cell_type": "code",
   "execution_count": 29,
   "metadata": {},
   "outputs": [
    {
     "data": {
      "text/plain": [
       "['One important factor in retaining an atmosphere is the storminess of its star',\n",
       " 'In order to accomplish this the entire detector must be chilled to',\n",
       " 'One important factor in retaining an atmosphere is the storminess of its star',\n",
       " 'Keep in mind that its possible its something else entirely',\n",
       " 'A brief note Lastly to clarify dark energy is not the same as dark matter',\n",
       " 'So the detection of planet TOI  c was a welcome departure',\n",
       " 'They are so faint that their planetary population is largely unexplored',\n",
       " 'Seeing the star let alone the planet is a feat in itself',\n",
       " 'Not only might we learn about the potential for an atmosphere and about the surface mineralogy but it might also help us understand the stellar neighborhood and our place in it',\n",
       " 'To imagine time dilation in action picture an object traveling towards a black hole']"
      ]
     },
     "execution_count": 29,
     "metadata": {},
     "output_type": "execute_result"
    }
   ],
   "source": [
    "True_Sequence[:10]"
   ]
  },
  {
   "cell_type": "code",
   "execution_count": 30,
   "metadata": {},
   "outputs": [
    {
     "data": {
      "text/plain": [
       "613"
      ]
     },
     "execution_count": 30,
     "metadata": {},
     "output_type": "execute_result"
    }
   ],
   "source": [
    "len(pre_seq_no_w) - dem"
   ]
  },
  {
   "cell_type": "code",
   "execution_count": 31,
   "metadata": {},
   "outputs": [
    {
     "data": {
      "image/png": "[encoded data removed]",
      "text/plain": [
       "<Figure size 640x480 with 1 Axes>"
      ]
     },
     "metadata": {},
     "output_type": "display_data"
    }
   ],
   "source": [
    "# Data to plot\n",
    "labels = ['False Sequence', 'True Sequence']\n",
    "sizes = [dem, len(pre_seq_no_w)-dem]\n",
    "colors = ['gold', 'yellowgreen']\n",
    "explode = (0.1, 0)  # explode 1st slice\n",
    "\n",
    "# Plotting the pie chart\n",
    "plt.pie(sizes, explode=explode, labels=labels, colors=colors,\n",
    "        autopct='%1.1f%%', shadow=True, startangle=140)\n",
    "\n",
    "plt.axis('equal')  # Equal aspect ratio ensures that pie is drawn as a circle.\n",
    "\n",
    "plt.title('Pie Chart Example')\n",
    "plt.show()"
   ]
  },
  {
   "cell_type": "code",
   "execution_count": 32,
   "metadata": {},
   "outputs": [],
   "source": [
    "# dictionary of lists \n",
    "dict = {'text': pre_seq_no_w} \n",
    "   \n",
    "df = pd.DataFrame(dict)\n",
    "   \n",
    "df.to_csv(\"Sequence_Text_temp.csv\")"
   ]
  },
  {
   "cell_type": "code",
   "execution_count": 37,
   "metadata": {},
   "outputs": [],
   "source": [
    "# dictionary of lists \n",
    "dict = {'text': pre_seq_no_w[1:1126]} \n",
    "   \n",
    "df = pd.DataFrame(dict)\n",
    "   \n",
    "df.to_csv(\"Sequence_Text.csv\")"
   ]
  }
 ],
 "metadata": {
  "kernelspec": {
   "display_name": "python_env_3.8",
   "language": "python",
   "name": "python3"
  },
  "language_info": {
   "codemirror_mode": {
    "name": "ipython",
    "version": 3
   },
   "file_extension": ".py",
   "mimetype": "text/x-python",
   "name": "python",
   "nbconvert_exporter": "python",
   "pygments_lexer": "ipython3",
   "version": "3.8.3"
  }
 },
 "nbformat": 4,
 "nbformat_minor": 2
}
