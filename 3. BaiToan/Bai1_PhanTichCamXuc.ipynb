{
 "cells": [
  {
   "cell_type": "code",
   "execution_count": 25,
   "metadata": {},
   "outputs": [],
   "source": [
    "import numpy as np\n",
    "import pandas as pd\n",
    "import re\n",
    "from sklearn.neighbors import KNeighborsClassifier\n",
    "from sklearn.decomposition import PCA\n",
    "from sklearn.metrics import f1_score\n",
    "from sklearn.metrics import classification_report, confusion_matrix, accuracy_score\n",
    "from sklearn.model_selection import train_test_split, GridSearchCV\n",
    "from sklearn.svm import LinearSVC\n",
    "from sklearn.feature_extraction.text import TfidfVectorizer\n",
    "from sklearn.preprocessing import LabelEncoder\n",
    "from sklearn.linear_model import LogisticRegression"
   ]
  },
  {
   "cell_type": "code",
   "execution_count": 26,
   "metadata": {},
   "outputs": [],
   "source": [
    "train = pd.read_csv(\"./text.csv\").dropna()"
   ]
  },
  {
   "cell_type": "code",
   "execution_count": 27,
   "metadata": {},
   "outputs": [],
   "source": [
    "def cleanText(text):\n",
    "    # Loại bỏ các @mentions\n",
    "    text = re.sub(r'@\\w+', '', text)\n",
    "    # Loại bỏ các ký hiệu không phải chữ cái, số hoặc khoảng trắng\n",
    "    text = re.sub(r'[^A-Za-z0-9\\s]', '', text)\n",
    "    # Loại bỏ chuỗi \"RT\"\n",
    "    text = re.sub(r'\\bRT\\b', '', text)\n",
    "    # Loại bỏ các liên kết hyper-link\n",
    "    text = re.sub(r'http\\S+|www\\S+|https\\S+', '', text)\n",
    "    # Loại bỏ dấu hai chấm theo sau bởi một hoặc nhiều khoảng trắng\n",
    "    text = re.sub(r':[\\s]+', '', text)\n",
    "    # Loại bỏ khoảng trắng thừa\n",
    "    text = text.strip()\n",
    "    return text"
   ]
  },
  {
   "cell_type": "code",
   "execution_count": 28,
   "metadata": {},
   "outputs": [],
   "source": [
    "train['text'] = train['text'].apply(cleanText)\n"
   ]
  },
  {
   "cell_type": "code",
   "execution_count": 29,
   "metadata": {},
   "outputs": [
    {
     "data": {
      "text/html": [
       "<div>\n",
       "<style scoped>\n",
       "    .dataframe tbody tr th:only-of-type {\n",
       "        vertical-align: middle;\n",
       "    }\n",
       "\n",
       "    .dataframe tbody tr th {\n",
       "        vertical-align: top;\n",
       "    }\n",
       "\n",
       "    .dataframe thead th {\n",
       "        text-align: right;\n",
       "    }\n",
       "</style>\n",
       "<table border=\"1\" class=\"dataframe\">\n",
       "  <thead>\n",
       "    <tr style=\"text-align: right;\">\n",
       "      <th></th>\n",
       "      <th>Unnamed: 0</th>\n",
       "      <th>text</th>\n",
       "      <th>label</th>\n",
       "    </tr>\n",
       "  </thead>\n",
       "  <tbody>\n",
       "    <tr>\n",
       "      <th>0</th>\n",
       "      <td>0</td>\n",
       "      <td>i just feel really helpless and heavy hearted</td>\n",
       "      <td>4</td>\n",
       "    </tr>\n",
       "    <tr>\n",
       "      <th>1</th>\n",
       "      <td>1</td>\n",
       "      <td>ive enjoyed being able to slouch about relax a...</td>\n",
       "      <td>0</td>\n",
       "    </tr>\n",
       "    <tr>\n",
       "      <th>2</th>\n",
       "      <td>2</td>\n",
       "      <td>i gave up my internship with the dmrg and am f...</td>\n",
       "      <td>4</td>\n",
       "    </tr>\n",
       "    <tr>\n",
       "      <th>3</th>\n",
       "      <td>3</td>\n",
       "      <td>i dont know i feel so lost</td>\n",
       "      <td>0</td>\n",
       "    </tr>\n",
       "    <tr>\n",
       "      <th>4</th>\n",
       "      <td>4</td>\n",
       "      <td>i am a kindergarten teacher and i am thoroughl...</td>\n",
       "      <td>4</td>\n",
       "    </tr>\n",
       "  </tbody>\n",
       "</table>\n",
       "</div>"
      ],
      "text/plain": [
       "   Unnamed: 0                                               text  label\n",
       "0           0      i just feel really helpless and heavy hearted      4\n",
       "1           1  ive enjoyed being able to slouch about relax a...      0\n",
       "2           2  i gave up my internship with the dmrg and am f...      4\n",
       "3           3                         i dont know i feel so lost      0\n",
       "4           4  i am a kindergarten teacher and i am thoroughl...      4"
      ]
     },
     "execution_count": 29,
     "metadata": {},
     "output_type": "execute_result"
    }
   ],
   "source": [
    "train.head()"
   ]
  },
  {
   "cell_type": "code",
   "execution_count": 30,
   "metadata": {},
   "outputs": [],
   "source": [
    "#Copy the unprocessed train and test dataframes\n",
    "\n",
    "#label_classes = ['anger','anticipation','disgust','fear','joy','love','optimism','pessimism','sadness','surprise','trust','neutral']\n",
    "\n",
    "X= train['text'] \n",
    "y = train['label']\n"
   ]
  },
  {
   "cell_type": "code",
   "execution_count": 31,
   "metadata": {},
   "outputs": [
    {
     "data": {
      "text/plain": [
       "(416809, 361610)"
      ]
     },
     "execution_count": 31,
     "metadata": {},
     "output_type": "execute_result"
    }
   ],
   "source": [
    "tfid_vectorizer = TfidfVectorizer(ngram_range=(1,2), min_df=2, stop_words=\"english\")\n",
    "X = tfid_vectorizer.fit_transform(X)\n",
    "X.shape"
   ]
  },
  {
   "cell_type": "code",
   "execution_count": 32,
   "metadata": {},
   "outputs": [
    {
     "data": {
      "text/plain": [
       "(416809, 1000)"
      ]
     },
     "execution_count": 32,
     "metadata": {},
     "output_type": "execute_result"
    }
   ],
   "source": [
    "from sklearn.decomposition import TruncatedSVD\n",
    "svd_ngram_char = TruncatedSVD(n_components=1000, random_state=42)\n",
    "\n",
    "\n",
    "X = svd_ngram_char.fit_transform(X)\n",
    "X.shape"
   ]
  },
  {
   "cell_type": "code",
   "execution_count": 33,
   "metadata": {},
   "outputs": [],
   "source": [
    "# svd_ngram_char = PCA(n_components=300)\n",
    "# X = svd_ngram_char.fit_transform(X)\n",
    "# X.shape"
   ]
  },
  {
   "cell_type": "code",
   "execution_count": 34,
   "metadata": {},
   "outputs": [],
   "source": [
    "X_train, X_val, y_train, y_val = train_test_split(X, y, test_size=0.2, random_state=42)"
   ]
  },
  {
   "cell_type": "code",
   "execution_count": 39,
   "metadata": {},
   "outputs": [
    {
     "name": "stderr",
     "output_type": "stream",
     "text": [
      "c:\\Users\\HaiDuong\\AppData\\Local\\Programs\\Python\\Python39\\lib\\site-packages\\sklearn\\svm\\_classes.py:31: FutureWarning: The default value of `dual` will change from `True` to `'auto'` in 1.5. Set the value of `dual` explicitly to suppress the warning.\n",
      "  warnings.warn(\n"
     ]
    },
    {
     "name": "stdout",
     "output_type": "stream",
     "text": [
      "              precision    recall  f1-score   support\n",
      "\n",
      "           0       0.95      0.94      0.94     24201\n",
      "           1       0.90      0.95      0.92     28164\n",
      "           2       0.86      0.77      0.81      6929\n",
      "           3       0.91      0.90      0.91     11441\n",
      "           4       0.87      0.87      0.87      9594\n",
      "           5       0.84      0.70      0.76      3033\n",
      "\n",
      "    accuracy                           0.91     83362\n",
      "   macro avg       0.89      0.85      0.87     83362\n",
      "weighted avg       0.91      0.91      0.90     83362\n",
      "\n"
     ]
    }
   ],
   "source": [
    "knc =KNeighborsClassifier()\n",
    "\n",
    "knc.fit(X_train, y_train)\n",
    "\n",
    "#Form a prediction set\n",
    "predictions_knc = knc.predict(X_val)\n",
    "\n",
    " # Print a classification report\n",
    "print(classification_report(y_val, predictions_knc))"
   ]
  },
  {
   "cell_type": "code",
   "execution_count": 40,
   "metadata": {},
   "outputs": [
    {
     "name": "stderr",
     "output_type": "stream",
     "text": [
      "c:\\Users\\HaiDuong\\AppData\\Local\\Programs\\Python\\Python39\\lib\\site-packages\\sklearn\\svm\\_classes.py:31: FutureWarning: The default value of `dual` will change from `True` to `'auto'` in 1.5. Set the value of `dual` explicitly to suppress the warning.\n",
      "  warnings.warn(\n"
     ]
    },
    {
     "name": "stdout",
     "output_type": "stream",
     "text": [
      "              precision    recall  f1-score   support\n",
      "\n",
      "           0       0.95      0.94      0.94     24201\n",
      "           1       0.90      0.95      0.92     28164\n",
      "           2       0.86      0.77      0.81      6929\n",
      "           3       0.91      0.90      0.91     11441\n",
      "           4       0.87      0.87      0.87      9594\n",
      "           5       0.84      0.70      0.76      3033\n",
      "\n",
      "    accuracy                           0.91     83362\n",
      "   macro avg       0.89      0.85      0.87     83362\n",
      "weighted avg       0.91      0.91      0.90     83362\n",
      "\n"
     ]
    }
   ],
   "source": [
    "SVM =LinearSVC()\n",
    "\n",
    "SVM.fit(X_train, y_train)\n",
    "\n",
    "#Form a prediction set\n",
    "predictions_SVM = SVM.predict(X_val)\n",
    "\n",
    " # Print a classification report\n",
    "print(classification_report(y_val, predictions_SVM))"
   ]
  },
  {
   "cell_type": "code",
   "execution_count": 41,
   "metadata": {},
   "outputs": [
    {
     "name": "stderr",
     "output_type": "stream",
     "text": [
      "c:\\Users\\HaiDuong\\AppData\\Local\\Programs\\Python\\Python39\\lib\\site-packages\\sklearn\\linear_model\\_logistic.py:469: ConvergenceWarning: lbfgs failed to converge (status=1):\n",
      "STOP: TOTAL NO. of ITERATIONS REACHED LIMIT.\n",
      "\n",
      "Increase the number of iterations (max_iter) or scale the data as shown in:\n",
      "    https://scikit-learn.org/stable/modules/preprocessing.html\n",
      "Please also refer to the documentation for alternative solver options:\n",
      "    https://scikit-learn.org/stable/modules/linear_model.html#logistic-regression\n",
      "  n_iter_i = _check_optimize_result(\n"
     ]
    },
    {
     "name": "stdout",
     "output_type": "stream",
     "text": [
      "              precision    recall  f1-score   support\n",
      "\n",
      "           0       0.94      0.94      0.94     24201\n",
      "           1       0.89      0.96      0.92     28164\n",
      "           2       0.88      0.75      0.81      6929\n",
      "           3       0.92      0.89      0.90     11441\n",
      "           4       0.88      0.85      0.87      9594\n",
      "           5       0.86      0.69      0.77      3033\n",
      "\n",
      "    accuracy                           0.90     83362\n",
      "   macro avg       0.89      0.85      0.87     83362\n",
      "weighted avg       0.90      0.90      0.90     83362\n",
      "\n"
     ]
    }
   ],
   "source": [
    "LSG =LogisticRegression()\n",
    "\n",
    "LSG.fit(X_train, y_train)\n",
    "\n",
    "#Form a prediction set\n",
    "predictions_LSG = LSG.predict(X_val)\n",
    "\n",
    " # Print a classification report\n",
    "print(classification_report(y_val, predictions_LSG))"
   ]
  },
  {
   "cell_type": "code",
   "execution_count": 37,
   "metadata": {},
   "outputs": [],
   "source": [
    "label_class=[\"sadness\",\"joy\",\"love\",\"anger\",\"fear\",\"surprise \"]\n",
    "\n",
    "def predict_text(model,input):\n",
    "    input = tfid_vectorizer.transform([input])\n",
    "    input = svd_ngram_char.transform(input)\n",
    "    predictions = model.predict(input)\n",
    "    print(label_class[predictions[0]])\n",
    "    # for v,l in zip(predictions_knc[0],label_classes):\n",
    "    #     if( v == 1.0):\n",
    "    #         print(l)\n"
   ]
  },
  {
   "cell_type": "code",
   "execution_count": 50,
   "metadata": {},
   "outputs": [
    {
     "name": "stdout",
     "output_type": "stream",
     "text": [
      "joy\n"
     ]
    }
   ],
   "source": [
    "input =\"i do feel so fear\"\n",
    "predict_text(knc,input)"
   ]
  }
 ],
 "metadata": {
  "kernelspec": {
   "display_name": "Python 3",
   "language": "python",
   "name": "python3"
  },
  "language_info": {
   "codemirror_mode": {
    "name": "ipython",
    "version": 3
   },
   "file_extension": ".py",
   "mimetype": "text/x-python",
   "name": "python",
   "nbconvert_exporter": "python",
   "pygments_lexer": "ipython3",
   "version": "3.9.8"
  }
 },
 "nbformat": 4,
 "nbformat_minor": 2
}
